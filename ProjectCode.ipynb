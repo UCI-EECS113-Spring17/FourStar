{
 "cells": [
  {
   "cell_type": "markdown",
   "metadata": {
    "deletable": true,
    "editable": true
   },
   "source": [
    "#First instantiate the Arduino analog controller for the PIR motion sensor"
   ]
  },
  {
   "cell_type": "code",
   "execution_count": 1,
   "metadata": {
    "collapsed": true,
    "deletable": true,
    "editable": true
   },
   "outputs": [],
   "source": [
    "# Make sure the base overlay is loaded\n",
    "from pynq import Overlay\n",
    "Overlay(\"base.bit\").download()"
   ]
  },
  {
   "cell_type": "code",
   "execution_count": 2,
   "metadata": {
    "collapsed": true,
    "deletable": true,
    "editable": true
   },
   "outputs": [],
   "source": [
    "from pynq.iop import Arduino_Analog\n",
    "from pynq.iop import ARDUINO\n",
    "from pynq.iop import ARDUINO_GROVE_A1\n",
    "from pynq.iop import ARDUINO_GROVE_A4\n",
    "\n",
    "analog1 = Arduino_Analog(ARDUINO, ARDUINO_GROVE_A1)"
   ]
  },
  {
   "cell_type": "markdown",
   "metadata": {
    "deletable": true,
    "editable": true
   },
   "source": [
    "#Instantiate the LEDs"
   ]
  },
  {
   "cell_type": "code",
   "execution_count": 11,
   "metadata": {
    "collapsed": true,
    "deletable": true,
    "editable": true
   },
   "outputs": [],
   "source": [
    "from pynq import Overlay\n",
    "from time import sleep\n",
    "from pynq.board import LED\n",
    "\n",
    "led0 = LED(0)\n",
    "led0.on()\n",
    "sleep(5)\n",
    "led0.off()"
   ]
  },
  {
   "cell_type": "code",
   "execution_count": 5,
   "metadata": {
    "collapsed": true,
    "deletable": true,
    "editable": true
   },
   "outputs": [],
   "source": [
    "#Instantiate Webcam\n",
    "from PIL import Image as PIL_Image\n",
    "\n",
    "orig_img_path = '/home/xilinx/jupyter_notebooks/webcam_capture.jpg'\n",
    "#!fswebcam  --no-banner --save {orig_img_path} -d /dev/video0 2> /dev/null\n",
    "\n",
    "#img = PIL_Image.open(orig_img_path)\n",
    "#img"
   ]
  },
  {
   "cell_type": "code",
   "execution_count": 6,
   "metadata": {
    "collapsed": false,
    "deletable": true,
    "editable": true
   },
   "outputs": [],
   "source": [
    "#Instantiate audio files\n",
    "from pynq.drivers import Audio\n",
    "import random\n",
    "audio = Audio()\n",
    "\n",
    "track1 = '/home/xilinx/jupyter_notebooks/getting_started/Are.pdm'\n",
    "track2 = '/home/xilinx/jupyter_notebooks/getting_started/Gotcha.pdm'\n",
    "track3 = '/home/xilinx/jupyter_notebooks/getting_started/HelloFriend.pdm'\n",
    "track4 = '/home/xilinx/jupyter_notebooks/getting_started/Here.pdm'\n",
    "\n",
    "tracks = ['']*4\n",
    "tracks[0] = track1\n",
    "tracks[1] = track2\n",
    "tracks[2] = track3\n",
    "tracks[3] = track4\n"
   ]
  },
  {
   "cell_type": "code",
   "execution_count": 7,
   "metadata": {
    "collapsed": true,
    "deletable": true,
    "editable": true
   },
   "outputs": [],
   "source": [
    "#Instantiate email setup\n",
    "##Sends image\n",
    "#import smtplib\n",
    "import smtplib\n",
    "\n",
    "#import email modules\n",
    "from email.mime.multipart import MIMEMultipart\n",
    "from email.mime.text import MIMEText\n",
    "from email.mime.image import MIMEImage\n",
    "\n",
    "\n",
    "me = 'eecs113pynq@gmail.com'\n",
    "you = 'eecs113pynq@gmail.com'\n",
    "subject = 'Motion Detected'\n",
    "imgfile = 'picture'\n",
    "\n",
    "msg = MIMEMultipart()\n",
    "msg[\"To\"] = you\n",
    "msg[\"From\"] = me\n",
    "msg[\"Subject\"] = subject\n",
    "\n"
   ]
  },
  {
   "cell_type": "markdown",
   "metadata": {
    "deletable": true,
    "editable": true
   },
   "source": [
    "#If motion sensor triggered, turn on LED"
   ]
  },
  {
   "cell_type": "markdown",
   "metadata": {
    "deletable": true,
    "editable": true
   },
   "source": [
    "#Plug motion sensor into 5V, Gnd, and A0"
   ]
  },
  {
   "cell_type": "code",
   "execution_count": 12,
   "metadata": {
    "collapsed": false,
    "deletable": true,
    "editable": true
   },
   "outputs": [
    {
     "name": "stdout",
     "output_type": "stream",
     "text": [
      "Take picture\n",
      "Take picture\n",
      "Take picture\n",
      "Take picture\n",
      "^C\n",
      "Take picture\n",
      "^C\n"
     ]
    },
    {
     "ename": "KeyboardInterrupt",
     "evalue": "",
     "output_type": "error",
     "traceback": [
      "\u001b[0;31m---------------------------------------------------------------------------\u001b[0m",
      "\u001b[0;31mKeyboardInterrupt\u001b[0m                         Traceback (most recent call last)",
      "\u001b[0;32m<ipython-input-12-c6f48b596d87>\u001b[0m in \u001b[0;36m<module>\u001b[0;34m()\u001b[0m\n\u001b[1;32m     38\u001b[0m         \u001b[0mstate\u001b[0m \u001b[0;34m=\u001b[0m \u001b[0;36m0\u001b[0m\u001b[0;34m\u001b[0m\u001b[0m\n\u001b[1;32m     39\u001b[0m     \u001b[0mi\u001b[0m \u001b[0;34m+=\u001b[0m \u001b[0;36m1\u001b[0m\u001b[0;34m\u001b[0m\u001b[0m\n\u001b[0;32m---> 40\u001b[0;31m     \u001b[0msleep\u001b[0m\u001b[0;34m(\u001b[0m\u001b[0;36m0.1\u001b[0m\u001b[0;34m)\u001b[0m\u001b[0;34m\u001b[0m\u001b[0m\n\u001b[0m",
      "\u001b[0;31mKeyboardInterrupt\u001b[0m: "
     ]
    }
   ],
   "source": [
    "\n",
    "state = 0\n",
    "i = 0\n",
    "\n",
    "while (1):\n",
    "    #print(i)\n",
    "    #print(analog1.read())\n",
    "    if (analog1.read()[0] > 1):\n",
    "        #print(analog1.read())\n",
    "        #print(\"Motion!\", state)\n",
    "        if (state == 0):\n",
    "            led0.on()\n",
    "            audio.load(tracks[random.randint(0,3)])\n",
    "            audio.play()\n",
    "            print(\"Take picture\")\n",
    "            !fswebcam  --no-banner --save {orig_img_path} -d /dev/video0 2> /dev/null\n",
    "            fp = open(orig_img_path, 'rb')\n",
    "            #img = MIMEImage(fp.read())\n",
    "            fp.close()\n",
    "\n",
    "            #msgText = MIMEText('<b>%s</b><br><img src=\"cid:%s\" height=\"300px\" width=\"450px\"></br>' % ('Hi', imgfile), 'html')\n",
    "            #msg.attach(msgText)\n",
    "\n",
    "            #img.add_header('Content-ID', '<{}>'.format(imgfile))\n",
    "            #msg.attach(img)\n",
    "\n",
    "            #s = smtplib.SMTP(host='smtp.gmail.com', port=587)\n",
    "            #s.ehlo()\n",
    "            #s.starttls()\n",
    "            #s.login('eecs113pynq@gmail.com', 'eecs1132017')\n",
    "            #s.sendmail(me, you, msg.as_string())\n",
    "            #s.quit()\n",
    "        state = 1\n",
    "    else:\n",
    "        #print(\"No motion\", state)\n",
    "        if (state == 1):\n",
    "            led0.off()\n",
    "        state = 0\n",
    "    i += 1\n",
    "    sleep(0.1)\n"
   ]
  },
  {
   "cell_type": "code",
   "execution_count": null,
   "metadata": {
    "collapsed": true,
    "deletable": true,
    "editable": true
   },
   "outputs": [],
   "source": []
  },
  {
   "cell_type": "code",
   "execution_count": null,
   "metadata": {
    "collapsed": true,
    "deletable": true,
    "editable": true
   },
   "outputs": [],
   "source": []
  }
 ],
 "metadata": {
  "kernelspec": {
   "display_name": "Python 3",
   "language": "python",
   "name": "python3"
  },
  "language_info": {
   "codemirror_mode": {
    "name": "ipython",
    "version": 3
   },
   "file_extension": ".py",
   "mimetype": "text/x-python",
   "name": "python",
   "nbconvert_exporter": "python",
   "pygments_lexer": "ipython3",
   "version": "3.6.0"
  }
 },
 "nbformat": 4,
 "nbformat_minor": 2
}
